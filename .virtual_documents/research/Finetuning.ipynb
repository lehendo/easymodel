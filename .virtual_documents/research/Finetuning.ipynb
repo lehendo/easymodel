


!pip install datasets
!pip install transformers
!pip install pyarrow==15.0.2


import datasets 
import transformers


from datasets import load_dataset
